{
  "nbformat": 4,
  "nbformat_minor": 0,
  "metadata": {
    "colab": {
      "provenance": [],
      "authorship_tag": "ABX9TyNE1d3R1lJLCFDnCbJyUCa2",
      "include_colab_link": true
    },
    "kernelspec": {
      "name": "python3",
      "display_name": "Python 3"
    },
    "language_info": {
      "name": "python"
    }
  },
  "cells": [
    {
      "cell_type": "markdown",
      "metadata": {
        "id": "view-in-github",
        "colab_type": "text"
      },
      "source": [
        "<a href=\"https://colab.research.google.com/github/ohsg902/Complete-Python-3-Bootcamp/blob/master/tictactoe.ipynb\" target=\"_parent\"><img src=\"https://colab.research.google.com/assets/colab-badge.svg\" alt=\"Open In Colab\"/></a>"
      ]
    },
    {
      "cell_type": "markdown",
      "source": [
        "틱택토 게임 설계\n",
        "3x3 사이즈로 설계하며"
      ],
      "metadata": {
        "id": "gCA_2kBjO_Cf"
      }
    },
    {
      "cell_type": "code",
      "source": [
        "from IPython.display import clear_output\n",
        "#게임판 세팅\n",
        "#board=['#',' ',' ',' ',' ',' ',' ',' ',' ',' ']\n",
        "#게임판을 불러오는 함수\n",
        "def display_board(board):\n",
        "  print('   |   |')\n",
        "  print(' ' + board[7] + ' | ' + board[8] + ' | ' + board[9])\n",
        "  print('   |   |')\n",
        "  print('-----------')\n",
        "  print('   |   |')\n",
        "  print(' ' + board[4] + ' | ' + board[5] + ' | ' + board[6])\n",
        "  print('   |   |')\n",
        "  print('-----------')\n",
        "  print('   |   |')\n",
        "  print(' ' + board[1] + ' | ' + board[2] + ' | ' + board[3])\n",
        "  print('   |   |')"
      ],
      "metadata": {
        "id": "JoXCdzJJdb3Q"
      },
      "execution_count": null,
      "outputs": []
    },
    {
      "cell_type": "code",
      "source": [
        "#게임의 플레이어가 처음 시작을 X로 할건지 O로 할건지 결정하는 함수\n",
        "def player_input():\n",
        "  choice_player=False\n",
        "  selectable=['X','O']\n",
        "  while choice_player==False:\n",
        "    char_player=input(\"1번 플레이어는 X와 O중에 어떤 마커로 게임을 하시겠습니까? (X or O): \")\n",
        "    if char_player not in selectable:\n",
        "      print(\"잘못된 입력입니다. 다시 선택해\")\n",
        "    else:\n",
        "      choice_player=True\n",
        "  return char_player"
      ],
      "metadata": {
        "id": "kj19LKaqdY-x"
      },
      "execution_count": null,
      "outputs": []
    },
    {
      "cell_type": "markdown",
      "source": [
        "# New Section"
      ],
      "metadata": {
        "id": "kZcYktfGhKMJ"
      }
    },
    {
      "cell_type": "code",
      "source": [
        "#보드에 플레이어가 마커를 할당시키는 함수\n",
        "def place_marker(board, marker, position):\n",
        "   board[position]=marker\n",
        "   return board"
      ],
      "metadata": {
        "id": "VcmoQm_TpLTQ"
      },
      "execution_count": null,
      "outputs": []
    },
    {
      "cell_type": "code",
      "source": [
        "#승자체크(비효율적으로 8개의 승리요건을 모두작성?)\n",
        "def win_check(board,mark):\n",
        "  if board[1]==board[2]==board[3]==mark:\n",
        "    return True\n",
        "  elif board[4]==board[5]==board[6]==mark:\n",
        "    return True\n",
        "  elif board[7]==board[8]==board[9]==mark:\n",
        "    return True\n",
        "  elif board[1]==board[4]==board[7]==mark:\n",
        "    return True\n",
        "  elif board[2]==board[5]==board[8]==mark:\n",
        "    return True\n",
        "  elif board[3]==board[6]==board[9]==mark:\n",
        "    return True\n",
        "  elif board[1]==board[5]==board[9]==mark:\n",
        "    return True\n",
        "  elif board[3]==board[5]==board[7]==mark:\n",
        "    return True"
      ],
      "metadata": {
        "id": "oPglte8Pd1tB"
      },
      "execution_count": null,
      "outputs": []
    },
    {
      "cell_type": "code",
      "source": [
        "import random\n",
        "\n",
        "def choose_first():\n",
        "      sequence_check=0\n",
        "      player_one = random.randint(0,100)\n",
        "      player_two = random.randint(0,100)\n",
        "      if player_one>player_two:\n",
        "        sequence_check=1\n",
        "        return \"Player one goes first\"\n",
        "      elif player_two>player_one:\n",
        "        sequence_check=2\n",
        "        return \"Player two goes first\"\n",
        "      else:\n",
        "        return \"please try again\""
      ],
      "metadata": {
        "id": "XUQyzpwu3oCT"
      },
      "execution_count": null,
      "outputs": []
    },
    {
      "cell_type": "code",
      "source": [
        "def space_check(board, position):\n",
        "  if board[position] == ' ':\n",
        "    return True\n",
        "  else:\n",
        "    return False"
      ],
      "metadata": {
        "id": "tVcPL9b7MA4Y"
      },
      "execution_count": null,
      "outputs": []
    },
    {
      "cell_type": "code",
      "source": [
        "def full_board_check(board):\n",
        "  if board[1::]!=' ':\n",
        "    return True\n",
        "  else:\n",
        "    return False"
      ],
      "metadata": {
        "id": "q3KoDrCLPPLf"
      },
      "execution_count": null,
      "outputs": []
    },
    {
      "cell_type": "code",
      "source": [
        "def player_choice(board):\n",
        "  checker=False\n",
        "  while checker == False:\n",
        "    position=int(input(\"1부터 9까지 중에 원하는 자리를 골라주세요.: \"))\n",
        "    if space_check(board, position) == True:\n",
        "      checker=True\n",
        "      return position\n",
        "    elif space_check(board, position) == False:\n",
        "      print(\"이미 사용된 자리입니다. 다시 선택하십시오.\")\n",
        "      pass\n"
      ],
      "metadata": {
        "id": "fzeEgtMgZvju"
      },
      "execution_count": null,
      "outputs": []
    },
    {
      "cell_type": "code",
      "source": [
        "#https://www.musinsa.com/products/2153567\n",
        "def replay():\n",
        "  answer=input(\"다시 하시겠습니까? (Y/N): \")\n",
        "  answer_check=False\n",
        "  while answer_check==False:\n",
        "    if answer=='Y':\n",
        "      answer_check=True\n",
        "      return True\n",
        "    elif answer=='N':\n",
        "      answer_check=True\n",
        "      return False\n",
        "    else:\n",
        "      print(\"올바른 값을 입력하십시오.\")\n",
        "      pass"
      ],
      "metadata": {
        "id": "xjPyn9uocAix"
      },
      "execution_count": null,
      "outputs": []
    },
    {
      "cell_type": "code",
      "source": [
        "print('Welcome to the Tic Tac Toe!')\n",
        "import random\n",
        "while True:\n",
        "  board=['#',' ',' ',' ',' ',' ',' ',' ',' ',' ']\n",
        "\n",
        "  player_one = player_input()\n",
        "\n",
        "  player_two=''\n",
        "  if player_one=='O':\n",
        "    player_two='X'\n",
        "  else:\n",
        "    player_two='O'\n",
        "\n",
        "  choose_first()\n",
        "\n",
        "  if sequence_check==1:\n",
        "  game_starter=True\n",
        "  while game_starter==True:\n",
        "    display_board(board)\n",
        "\n"
      ],
      "metadata": {
        "id": "Q0umyZQDnPqj"
      },
      "execution_count": null,
      "outputs": []
    }
  ]
}